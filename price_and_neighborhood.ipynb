{
 "cells": [
  {
   "cell_type": "markdown",
   "metadata": {},
   "source": [
    "2.3. Predicting Price with Neighborhood"
   ]
  },
  {
   "cell_type": "code",
   "execution_count": 45,
   "metadata": {},
   "outputs": [],
   "source": [
    "import warnings\n",
    "from glob import glob\n",
    "\n",
    "import matplotlib.pyplot as plt\n",
    "import numpy as np\n",
    "import pandas as pd\n",
    "from category_encoders import OneHotEncoder\n",
    "from sklearn.linear_model import LinearRegression, Ridge  # noqa F401\n",
    "from sklearn.metrics import mean_absolute_error\n",
    "from sklearn.pipeline import make_pipeline\n",
    "from sklearn.utils.validation import check_is_fitted\n",
    "import matplotlib.image as mpimg # to show images\n",
    "\n",
    "warnings.simplefilter(action=\"ignore\", category=FutureWarning)"
   ]
  },
  {
   "cell_type": "markdown",
   "metadata": {},
   "source": [
    "In the last lesson, we created a model that used location — represented by latitude and longitude — to predict price. In this lesson, we're going to use a different representation for location: neighborhood.\n",
    "##### Prepare Data\n",
    "##### Import"
   ]
  },
  {
   "cell_type": "code",
   "execution_count": 32,
   "metadata": {},
   "outputs": [],
   "source": [
    "def wrangle(filepath):\n",
    "    # Read CSV file\n",
    "    df = pd.read_csv(filepath,  encoding = \"latin1\")\n",
    "\n",
    "    # Subset data: Apartments in \"Capital Federal\", less than 400,000\n",
    "    mask_ba = df[\"place_with_parent_names\"].str.contains(\"Capital Federal\")\n",
    "    mask_apt = df[\"property_type\"] == \"apartment\"\n",
    "    mask_price = df[\"price_aprox_usd\"] < 400_000\n",
    "    df = df[mask_ba & mask_apt & mask_price]\n",
    "\n",
    "    # Subset data: Remove outliers for \"surface_covered_in_m2\"\n",
    "    low, high = df[\"surface_covered_in_m2\"].quantile([0.1, 0.9])\n",
    "    mask_area = df[\"surface_covered_in_m2\"].between(low, high)\n",
    "    df = df[mask_area]\n",
    "\n",
    "    # Split \"lat-lon\" column\n",
    "    df[[\"lat\", \"lon\"]] = df[\"lat-lon\"].str.split(\",\", expand=True).astype(float)\n",
    "    df.drop(columns=\"lat-lon\", inplace=True) \n",
    "\n",
    "    # Extact neighborhood\n",
    "    df[\"neighborhood\"] = df[\"place_with_parent_names\"].str.split(\"|\", expand=True)[3]\n",
    "    df.drop(columns=\"place_with_parent_names\", inplace = True)\n",
    "\n",
    "    return df"
   ]
  },
  {
   "cell_type": "markdown",
   "metadata": {},
   "source": [
    "In the last lesson, we used our wrangle function to import two CSV files as DataFrames. But what if we had hundreds of CSV files to import? Wrangling them one-by-one wouldn't be an option. So let's start with a technique for reading several CSV files into a single DataFrame.\n",
    "\n",
    "The first step is to gather the names of all the files we want to import. We can do this using pattern matching. \n",
    "\n",
    "Task 2.3.1: Use glob to create a list that contains the filenames for all the Buenos Aires real estate CSV files in the data directory. Assign this list to the variable name files."
   ]
  },
  {
   "cell_type": "code",
   "execution_count": 33,
   "metadata": {},
   "outputs": [
    {
     "data": {
      "text/plain": [
       "['datasets\\\\buenos-aires-real-estate-1.csv',\n",
       " 'datasets\\\\buenos-aires-real-estate-2.csv',\n",
       " 'datasets\\\\buenos-aires-real-estate-3.csv',\n",
       " 'datasets\\\\buenos-aires-real-estate-4.csv',\n",
       " 'datasets\\\\buenos-aires-real-estate-5.csv']"
      ]
     },
     "execution_count": 33,
     "metadata": {},
     "output_type": "execute_result"
    }
   ],
   "source": [
    "files = glob(\"datasets/buenos-aires-real-estate-*.csv\")\n",
    "files"
   ]
  },
  {
   "cell_type": "code",
   "execution_count": 34,
   "metadata": {},
   "outputs": [],
   "source": [
    "# Check your work\n",
    "assert len(files) == 5, f\"`files` should contain 5 items, not {len(files)}\""
   ]
  },
  {
   "cell_type": "markdown",
   "metadata": {},
   "source": [
    "The next step is to read each of the CSVs in files into a DataFrame, and put all of those DataFrames into a list. What's a good way to iterate through files so we can do this? A for loop!\n",
    "\n",
    "Task 2.3.2: Use your wrangle function in a for loop to create a list named frames. The list should the cleaned DataFrames created from the CSV filenames your collected in files."
   ]
  },
  {
   "cell_type": "code",
   "execution_count": 35,
   "metadata": {},
   "outputs": [],
   "source": [
    "frames = []\n",
    "\n",
    "for file in files:\n",
    "    df = wrangle(file)\n",
    "    frames.append(df)"
   ]
  },
  {
   "cell_type": "code",
   "execution_count": 19,
   "metadata": {},
   "outputs": [
    {
     "data": {
      "text/plain": [
       "5"
      ]
     },
     "execution_count": 19,
     "metadata": {},
     "output_type": "execute_result"
    }
   ],
   "source": [
    "len(frames)"
   ]
  },
  {
   "cell_type": "code",
   "execution_count": 22,
   "metadata": {},
   "outputs": [
    {
     "data": {
      "text/plain": [
       "pandas.core.frame.DataFrame"
      ]
     },
     "execution_count": 22,
     "metadata": {},
     "output_type": "execute_result"
    }
   ],
   "source": [
    "type(frames[0])"
   ]
  },
  {
   "cell_type": "code",
   "execution_count": 17,
   "metadata": {},
   "outputs": [
    {
     "data": {
      "text/html": [
       "<div>\n",
       "<style scoped>\n",
       "    .dataframe tbody tr th:only-of-type {\n",
       "        vertical-align: middle;\n",
       "    }\n",
       "\n",
       "    .dataframe tbody tr th {\n",
       "        vertical-align: top;\n",
       "    }\n",
       "\n",
       "    .dataframe thead th {\n",
       "        text-align: right;\n",
       "    }\n",
       "</style>\n",
       "<table border=\"1\" class=\"dataframe\">\n",
       "  <thead>\n",
       "    <tr style=\"text-align: right;\">\n",
       "      <th></th>\n",
       "      <th>operation</th>\n",
       "      <th>property_type</th>\n",
       "      <th>place_with_parent_names</th>\n",
       "      <th>price</th>\n",
       "      <th>currency</th>\n",
       "      <th>price_aprox_local_currency</th>\n",
       "      <th>price_aprox_usd</th>\n",
       "      <th>surface_total_in_m2</th>\n",
       "      <th>surface_covered_in_m2</th>\n",
       "      <th>price_usd_per_m2</th>\n",
       "      <th>price_per_m2</th>\n",
       "      <th>floor</th>\n",
       "      <th>rooms</th>\n",
       "      <th>expenses</th>\n",
       "      <th>properati_url</th>\n",
       "      <th>lat</th>\n",
       "      <th>lon</th>\n",
       "    </tr>\n",
       "  </thead>\n",
       "  <tbody>\n",
       "    <tr>\n",
       "      <th>4</th>\n",
       "      <td>sell</td>\n",
       "      <td>apartment</td>\n",
       "      <td>|Argentina|Capital Federal|Chacarita|</td>\n",
       "      <td>129000.0</td>\n",
       "      <td>USD</td>\n",
       "      <td>1955949.6</td>\n",
       "      <td>129000.0</td>\n",
       "      <td>76.0</td>\n",
       "      <td>70.0</td>\n",
       "      <td>1697.368421</td>\n",
       "      <td>1842.857143</td>\n",
       "      <td>NaN</td>\n",
       "      <td>NaN</td>\n",
       "      <td>NaN</td>\n",
       "      <td>http://chacarita.properati.com.ar/10qlv_venta_...</td>\n",
       "      <td>-34.584651</td>\n",
       "      <td>-58.454693</td>\n",
       "    </tr>\n",
       "    <tr>\n",
       "      <th>9</th>\n",
       "      <td>sell</td>\n",
       "      <td>apartment</td>\n",
       "      <td>|Argentina|Capital Federal|Villa Luro|</td>\n",
       "      <td>87000.0</td>\n",
       "      <td>USD</td>\n",
       "      <td>1319128.8</td>\n",
       "      <td>87000.0</td>\n",
       "      <td>48.0</td>\n",
       "      <td>42.0</td>\n",
       "      <td>1812.500000</td>\n",
       "      <td>2071.428571</td>\n",
       "      <td>NaN</td>\n",
       "      <td>NaN</td>\n",
       "      <td>NaN</td>\n",
       "      <td>http://villa-luro.properati.com.ar/12m82_venta...</td>\n",
       "      <td>-34.638979</td>\n",
       "      <td>-58.500115</td>\n",
       "    </tr>\n",
       "    <tr>\n",
       "      <th>29</th>\n",
       "      <td>sell</td>\n",
       "      <td>apartment</td>\n",
       "      <td>|Argentina|Capital Federal|Caballito|</td>\n",
       "      <td>118000.0</td>\n",
       "      <td>USD</td>\n",
       "      <td>1789163.2</td>\n",
       "      <td>118000.0</td>\n",
       "      <td>NaN</td>\n",
       "      <td>54.0</td>\n",
       "      <td>NaN</td>\n",
       "      <td>2185.185185</td>\n",
       "      <td>NaN</td>\n",
       "      <td>2.0</td>\n",
       "      <td>NaN</td>\n",
       "      <td>http://caballito.properati.com.ar/11wqh_venta_...</td>\n",
       "      <td>-34.615847</td>\n",
       "      <td>-58.459957</td>\n",
       "    </tr>\n",
       "    <tr>\n",
       "      <th>40</th>\n",
       "      <td>sell</td>\n",
       "      <td>apartment</td>\n",
       "      <td>|Argentina|Capital Federal|Constitución|</td>\n",
       "      <td>57000.0</td>\n",
       "      <td>USD</td>\n",
       "      <td>864256.8</td>\n",
       "      <td>57000.0</td>\n",
       "      <td>42.0</td>\n",
       "      <td>42.0</td>\n",
       "      <td>1357.142857</td>\n",
       "      <td>1357.142857</td>\n",
       "      <td>5.0</td>\n",
       "      <td>2.0</td>\n",
       "      <td>364.0</td>\n",
       "      <td>http://constitucion.properati.com.ar/k2f0_vent...</td>\n",
       "      <td>-34.625222</td>\n",
       "      <td>-58.382382</td>\n",
       "    </tr>\n",
       "    <tr>\n",
       "      <th>41</th>\n",
       "      <td>sell</td>\n",
       "      <td>apartment</td>\n",
       "      <td>|Argentina|Capital Federal|Once|</td>\n",
       "      <td>90000.0</td>\n",
       "      <td>USD</td>\n",
       "      <td>1364616.0</td>\n",
       "      <td>90000.0</td>\n",
       "      <td>57.0</td>\n",
       "      <td>50.0</td>\n",
       "      <td>1578.947368</td>\n",
       "      <td>1800.000000</td>\n",
       "      <td>NaN</td>\n",
       "      <td>3.0</td>\n",
       "      <td>450.0</td>\n",
       "      <td>http://once.properati.com.ar/suwa_venta_depart...</td>\n",
       "      <td>-34.610610</td>\n",
       "      <td>-58.412511</td>\n",
       "    </tr>\n",
       "  </tbody>\n",
       "</table>\n",
       "</div>"
      ],
      "text/plain": [
       "   operation property_type                   place_with_parent_names  \\\n",
       "4       sell     apartment     |Argentina|Capital Federal|Chacarita|   \n",
       "9       sell     apartment    |Argentina|Capital Federal|Villa Luro|   \n",
       "29      sell     apartment     |Argentina|Capital Federal|Caballito|   \n",
       "40      sell     apartment  |Argentina|Capital Federal|Constitución|   \n",
       "41      sell     apartment          |Argentina|Capital Federal|Once|   \n",
       "\n",
       "       price currency  price_aprox_local_currency  price_aprox_usd  \\\n",
       "4   129000.0      USD                   1955949.6         129000.0   \n",
       "9    87000.0      USD                   1319128.8          87000.0   \n",
       "29  118000.0      USD                   1789163.2         118000.0   \n",
       "40   57000.0      USD                    864256.8          57000.0   \n",
       "41   90000.0      USD                   1364616.0          90000.0   \n",
       "\n",
       "    surface_total_in_m2  surface_covered_in_m2  price_usd_per_m2  \\\n",
       "4                  76.0                   70.0       1697.368421   \n",
       "9                  48.0                   42.0       1812.500000   \n",
       "29                  NaN                   54.0               NaN   \n",
       "40                 42.0                   42.0       1357.142857   \n",
       "41                 57.0                   50.0       1578.947368   \n",
       "\n",
       "    price_per_m2  floor  rooms  expenses  \\\n",
       "4    1842.857143    NaN    NaN       NaN   \n",
       "9    2071.428571    NaN    NaN       NaN   \n",
       "29   2185.185185    NaN    2.0       NaN   \n",
       "40   1357.142857    5.0    2.0     364.0   \n",
       "41   1800.000000    NaN    3.0     450.0   \n",
       "\n",
       "                                        properati_url        lat        lon  \n",
       "4   http://chacarita.properati.com.ar/10qlv_venta_... -34.584651 -58.454693  \n",
       "9   http://villa-luro.properati.com.ar/12m82_venta... -34.638979 -58.500115  \n",
       "29  http://caballito.properati.com.ar/11wqh_venta_... -34.615847 -58.459957  \n",
       "40  http://constitucion.properati.com.ar/k2f0_vent... -34.625222 -58.382382  \n",
       "41  http://once.properati.com.ar/suwa_venta_depart... -34.610610 -58.412511  "
      ]
     },
     "execution_count": 17,
     "metadata": {},
     "output_type": "execute_result"
    }
   ],
   "source": [
    "frames[0].head()"
   ]
  },
  {
   "cell_type": "code",
   "execution_count": 36,
   "metadata": {},
   "outputs": [],
   "source": [
    "# Check your work\n",
    "assert len(frames) == 5, f\"`frames` should contain 5 items, not {len(frames)}\"\n",
    "assert all(\n",
    "    [isinstance(frame, pd.DataFrame) for frame in frames]\n",
    "), \"The items in `frames` should all be DataFrames.\""
   ]
  },
  {
   "cell_type": "markdown",
   "metadata": {},
   "source": [
    "The final step is to use pandas to combine all the DataFrames in frames.\n",
    "\n",
    "Task 2.3.3: Use pd.concat to concatenate the items in frames into a single DataFrame df. Make sure you set the ignore_index argument to True."
   ]
  },
  {
   "cell_type": "code",
   "execution_count": 37,
   "metadata": {},
   "outputs": [
    {
     "data": {
      "text/html": [
       "<div>\n",
       "<style scoped>\n",
       "    .dataframe tbody tr th:only-of-type {\n",
       "        vertical-align: middle;\n",
       "    }\n",
       "\n",
       "    .dataframe tbody tr th {\n",
       "        vertical-align: top;\n",
       "    }\n",
       "\n",
       "    .dataframe thead th {\n",
       "        text-align: right;\n",
       "    }\n",
       "</style>\n",
       "<table border=\"1\" class=\"dataframe\">\n",
       "  <thead>\n",
       "    <tr style=\"text-align: right;\">\n",
       "      <th></th>\n",
       "      <th>operation</th>\n",
       "      <th>property_type</th>\n",
       "      <th>price</th>\n",
       "      <th>currency</th>\n",
       "      <th>price_aprox_local_currency</th>\n",
       "      <th>price_aprox_usd</th>\n",
       "      <th>surface_total_in_m2</th>\n",
       "      <th>surface_covered_in_m2</th>\n",
       "      <th>price_usd_per_m2</th>\n",
       "      <th>price_per_m2</th>\n",
       "      <th>floor</th>\n",
       "      <th>rooms</th>\n",
       "      <th>expenses</th>\n",
       "      <th>properati_url</th>\n",
       "      <th>lat</th>\n",
       "      <th>lon</th>\n",
       "      <th>neighborhood</th>\n",
       "    </tr>\n",
       "  </thead>\n",
       "  <tbody>\n",
       "    <tr>\n",
       "      <th>0</th>\n",
       "      <td>sell</td>\n",
       "      <td>apartment</td>\n",
       "      <td>129000.0</td>\n",
       "      <td>USD</td>\n",
       "      <td>1955949.6</td>\n",
       "      <td>129000.0</td>\n",
       "      <td>76.0</td>\n",
       "      <td>70.0</td>\n",
       "      <td>1697.368421</td>\n",
       "      <td>1842.857143</td>\n",
       "      <td>NaN</td>\n",
       "      <td>NaN</td>\n",
       "      <td>NaN</td>\n",
       "      <td>http://chacarita.properati.com.ar/10qlv_venta_...</td>\n",
       "      <td>-34.584651</td>\n",
       "      <td>-58.454693</td>\n",
       "      <td>Chacarita</td>\n",
       "    </tr>\n",
       "    <tr>\n",
       "      <th>1</th>\n",
       "      <td>sell</td>\n",
       "      <td>apartment</td>\n",
       "      <td>87000.0</td>\n",
       "      <td>USD</td>\n",
       "      <td>1319128.8</td>\n",
       "      <td>87000.0</td>\n",
       "      <td>48.0</td>\n",
       "      <td>42.0</td>\n",
       "      <td>1812.500000</td>\n",
       "      <td>2071.428571</td>\n",
       "      <td>NaN</td>\n",
       "      <td>NaN</td>\n",
       "      <td>NaN</td>\n",
       "      <td>http://villa-luro.properati.com.ar/12m82_venta...</td>\n",
       "      <td>-34.638979</td>\n",
       "      <td>-58.500115</td>\n",
       "      <td>Villa Luro</td>\n",
       "    </tr>\n",
       "    <tr>\n",
       "      <th>2</th>\n",
       "      <td>sell</td>\n",
       "      <td>apartment</td>\n",
       "      <td>118000.0</td>\n",
       "      <td>USD</td>\n",
       "      <td>1789163.2</td>\n",
       "      <td>118000.0</td>\n",
       "      <td>NaN</td>\n",
       "      <td>54.0</td>\n",
       "      <td>NaN</td>\n",
       "      <td>2185.185185</td>\n",
       "      <td>NaN</td>\n",
       "      <td>2.0</td>\n",
       "      <td>NaN</td>\n",
       "      <td>http://caballito.properati.com.ar/11wqh_venta_...</td>\n",
       "      <td>-34.615847</td>\n",
       "      <td>-58.459957</td>\n",
       "      <td>Caballito</td>\n",
       "    </tr>\n",
       "    <tr>\n",
       "      <th>3</th>\n",
       "      <td>sell</td>\n",
       "      <td>apartment</td>\n",
       "      <td>57000.0</td>\n",
       "      <td>USD</td>\n",
       "      <td>864256.8</td>\n",
       "      <td>57000.0</td>\n",
       "      <td>42.0</td>\n",
       "      <td>42.0</td>\n",
       "      <td>1357.142857</td>\n",
       "      <td>1357.142857</td>\n",
       "      <td>5.0</td>\n",
       "      <td>2.0</td>\n",
       "      <td>364.0</td>\n",
       "      <td>http://constitucion.properati.com.ar/k2f0_vent...</td>\n",
       "      <td>-34.625222</td>\n",
       "      <td>-58.382382</td>\n",
       "      <td>Constitución</td>\n",
       "    </tr>\n",
       "    <tr>\n",
       "      <th>4</th>\n",
       "      <td>sell</td>\n",
       "      <td>apartment</td>\n",
       "      <td>90000.0</td>\n",
       "      <td>USD</td>\n",
       "      <td>1364616.0</td>\n",
       "      <td>90000.0</td>\n",
       "      <td>57.0</td>\n",
       "      <td>50.0</td>\n",
       "      <td>1578.947368</td>\n",
       "      <td>1800.000000</td>\n",
       "      <td>NaN</td>\n",
       "      <td>3.0</td>\n",
       "      <td>450.0</td>\n",
       "      <td>http://once.properati.com.ar/suwa_venta_depart...</td>\n",
       "      <td>-34.610610</td>\n",
       "      <td>-58.412511</td>\n",
       "      <td>Once</td>\n",
       "    </tr>\n",
       "  </tbody>\n",
       "</table>\n",
       "</div>"
      ],
      "text/plain": [
       "  operation property_type     price currency  price_aprox_local_currency  \\\n",
       "0      sell     apartment  129000.0      USD                   1955949.6   \n",
       "1      sell     apartment   87000.0      USD                   1319128.8   \n",
       "2      sell     apartment  118000.0      USD                   1789163.2   \n",
       "3      sell     apartment   57000.0      USD                    864256.8   \n",
       "4      sell     apartment   90000.0      USD                   1364616.0   \n",
       "\n",
       "   price_aprox_usd  surface_total_in_m2  surface_covered_in_m2  \\\n",
       "0         129000.0                 76.0                   70.0   \n",
       "1          87000.0                 48.0                   42.0   \n",
       "2         118000.0                  NaN                   54.0   \n",
       "3          57000.0                 42.0                   42.0   \n",
       "4          90000.0                 57.0                   50.0   \n",
       "\n",
       "   price_usd_per_m2  price_per_m2  floor  rooms  expenses  \\\n",
       "0       1697.368421   1842.857143    NaN    NaN       NaN   \n",
       "1       1812.500000   2071.428571    NaN    NaN       NaN   \n",
       "2               NaN   2185.185185    NaN    2.0       NaN   \n",
       "3       1357.142857   1357.142857    5.0    2.0     364.0   \n",
       "4       1578.947368   1800.000000    NaN    3.0     450.0   \n",
       "\n",
       "                                       properati_url        lat        lon  \\\n",
       "0  http://chacarita.properati.com.ar/10qlv_venta_... -34.584651 -58.454693   \n",
       "1  http://villa-luro.properati.com.ar/12m82_venta... -34.638979 -58.500115   \n",
       "2  http://caballito.properati.com.ar/11wqh_venta_... -34.615847 -58.459957   \n",
       "3  http://constitucion.properati.com.ar/k2f0_vent... -34.625222 -58.382382   \n",
       "4  http://once.properati.com.ar/suwa_venta_depart... -34.610610 -58.412511   \n",
       "\n",
       "   neighborhood  \n",
       "0     Chacarita  \n",
       "1    Villa Luro  \n",
       "2     Caballito  \n",
       "3  Constitución  \n",
       "4          Once  "
      ]
     },
     "execution_count": 37,
     "metadata": {},
     "output_type": "execute_result"
    }
   ],
   "source": [
    "df = pd.concat(frames, ignore_index = True)\n",
    "df.head()"
   ]
  },
  {
   "cell_type": "code",
   "execution_count": 24,
   "metadata": {},
   "outputs": [
    {
     "data": {
      "text/plain": [
       "(6582, 17)"
      ]
     },
     "execution_count": 24,
     "metadata": {},
     "output_type": "execute_result"
    }
   ],
   "source": [
    "df.shape"
   ]
  },
  {
   "cell_type": "code",
   "execution_count": 38,
   "metadata": {},
   "outputs": [],
   "source": [
    "# Check your work\n",
    "assert len(df) == 6582, f\"`df` is the wrong size: {len(df)}.\""
   ]
  },
  {
   "cell_type": "markdown",
   "metadata": {},
   "source": [
    "Excellent work! You can now clean and combine as many CSV files as your computer can handle. You're well on your way to working with big data. 📈\n",
    "##### Explore\n",
    "Looking through the output from the df.head() call above, there's a little bit more cleaning we need to do before we can work with the neighborhood information in this dataset. The good news is that, because we're using a wrangle function, we only need to change the function to re-clean all of our CSV files. This is why functions are so useful.\n",
    "\n",
    "Task 2.3.4: Modify your wrangle function to create a new feature \"neighborhood\". You can find the neighborhood for each property in the \"place_with_parent_names\" column. For example, a property with the place name \"|Argentina|Capital Federal|Palermo|\" is located in the neighborhood is \"Palermo\". Also, your function should drop the \"place_with_parent_names\" column.\n",
    "\n",
    "Be sure to rerun all the cells above before you continue."
   ]
  },
  {
   "cell_type": "code",
   "execution_count": 27,
   "metadata": {},
   "outputs": [
    {
     "data": {
      "text/plain": [
       "0       Chacarita\n",
       "1      Villa Luro\n",
       "2       Caballito\n",
       "3    Constitución\n",
       "4            Once\n",
       "Name: 3, dtype: object"
      ]
     },
     "execution_count": 27,
     "metadata": {},
     "output_type": "execute_result"
    }
   ],
   "source": [
    "df[\"place_with_parent_names\"].str.split(\"|\", expand=True)[3].head()"
   ]
  },
  {
   "cell_type": "code",
   "execution_count": 39,
   "metadata": {},
   "outputs": [],
   "source": [
    "# Check your work\n",
    "assert df.shape == (6582, 17), f\"`df` is the wrong size: {df.shape}.\"\n",
    "assert (\n",
    "    \"place_with_parent_names\" not in df\n",
    "), 'Remember to remove the `\"place_with_parent_names\"` column.'"
   ]
  },
  {
   "cell_type": "code",
   "execution_count": 31,
   "metadata": {},
   "outputs": [
    {
     "data": {
      "text/html": [
       "<div>\n",
       "<style scoped>\n",
       "    .dataframe tbody tr th:only-of-type {\n",
       "        vertical-align: middle;\n",
       "    }\n",
       "\n",
       "    .dataframe tbody tr th {\n",
       "        vertical-align: top;\n",
       "    }\n",
       "\n",
       "    .dataframe thead th {\n",
       "        text-align: right;\n",
       "    }\n",
       "</style>\n",
       "<table border=\"1\" class=\"dataframe\">\n",
       "  <thead>\n",
       "    <tr style=\"text-align: right;\">\n",
       "      <th></th>\n",
       "      <th>operation</th>\n",
       "      <th>property_type</th>\n",
       "      <th>price</th>\n",
       "      <th>currency</th>\n",
       "      <th>price_aprox_local_currency</th>\n",
       "      <th>price_aprox_usd</th>\n",
       "      <th>surface_total_in_m2</th>\n",
       "      <th>surface_covered_in_m2</th>\n",
       "      <th>price_usd_per_m2</th>\n",
       "      <th>price_per_m2</th>\n",
       "      <th>floor</th>\n",
       "      <th>rooms</th>\n",
       "      <th>expenses</th>\n",
       "      <th>properati_url</th>\n",
       "      <th>lat</th>\n",
       "      <th>lon</th>\n",
       "      <th>neighborhood</th>\n",
       "    </tr>\n",
       "  </thead>\n",
       "  <tbody>\n",
       "    <tr>\n",
       "      <th>3</th>\n",
       "      <td>sell</td>\n",
       "      <td>apartment</td>\n",
       "      <td>112000.0</td>\n",
       "      <td>USD</td>\n",
       "      <td>1698188.80</td>\n",
       "      <td>112000.0</td>\n",
       "      <td>NaN</td>\n",
       "      <td>60.0</td>\n",
       "      <td>NaN</td>\n",
       "      <td>1866.666667</td>\n",
       "      <td>1.0</td>\n",
       "      <td>2.0</td>\n",
       "      <td>NaN</td>\n",
       "      <td>http://belgrano.properati.com.ar/116pr_venta_d...</td>\n",
       "      <td>-34.564676</td>\n",
       "      <td>-58.455720</td>\n",
       "      <td>Belgrano</td>\n",
       "    </tr>\n",
       "    <tr>\n",
       "      <th>9</th>\n",
       "      <td>sell</td>\n",
       "      <td>apartment</td>\n",
       "      <td>76500.0</td>\n",
       "      <td>USD</td>\n",
       "      <td>1159923.60</td>\n",
       "      <td>76500.0</td>\n",
       "      <td>0.0</td>\n",
       "      <td>36.0</td>\n",
       "      <td>NaN</td>\n",
       "      <td>2125.000000</td>\n",
       "      <td>NaN</td>\n",
       "      <td>2.0</td>\n",
       "      <td>1000.0</td>\n",
       "      <td>http://caballito.properati.com.ar/12ksf_venta_...</td>\n",
       "      <td>-34.618830</td>\n",
       "      <td>-58.437779</td>\n",
       "      <td>Caballito</td>\n",
       "    </tr>\n",
       "    <tr>\n",
       "      <th>18</th>\n",
       "      <td>sell</td>\n",
       "      <td>apartment</td>\n",
       "      <td>90000.0</td>\n",
       "      <td>USD</td>\n",
       "      <td>1364616.00</td>\n",
       "      <td>90000.0</td>\n",
       "      <td>100.0</td>\n",
       "      <td>100.0</td>\n",
       "      <td>900.000000</td>\n",
       "      <td>900.000000</td>\n",
       "      <td>NaN</td>\n",
       "      <td>3.0</td>\n",
       "      <td>NaN</td>\n",
       "      <td>http://belgrano.properati.com.ar/zouu_venta_de...</td>\n",
       "      <td>-34.577168</td>\n",
       "      <td>-58.538654</td>\n",
       "      <td>Belgrano</td>\n",
       "    </tr>\n",
       "    <tr>\n",
       "      <th>20</th>\n",
       "      <td>sell</td>\n",
       "      <td>apartment</td>\n",
       "      <td>159900.0</td>\n",
       "      <td>USD</td>\n",
       "      <td>2424467.76</td>\n",
       "      <td>159900.0</td>\n",
       "      <td>82.0</td>\n",
       "      <td>77.0</td>\n",
       "      <td>1950.000000</td>\n",
       "      <td>2076.623377</td>\n",
       "      <td>NaN</td>\n",
       "      <td>3.0</td>\n",
       "      <td>NaN</td>\n",
       "      <td>http://colegiales.properati.com.ar/zpcd_venta_...</td>\n",
       "      <td>-34.571526</td>\n",
       "      <td>-58.455637</td>\n",
       "      <td>Colegiales</td>\n",
       "    </tr>\n",
       "    <tr>\n",
       "      <th>21</th>\n",
       "      <td>sell</td>\n",
       "      <td>apartment</td>\n",
       "      <td>123875.0</td>\n",
       "      <td>USD</td>\n",
       "      <td>1878242.30</td>\n",
       "      <td>123875.0</td>\n",
       "      <td>79.0</td>\n",
       "      <td>50.0</td>\n",
       "      <td>1568.037975</td>\n",
       "      <td>2477.500000</td>\n",
       "      <td>NaN</td>\n",
       "      <td>2.0</td>\n",
       "      <td>NaN</td>\n",
       "      <td>http://colegiales.properati.com.ar/12sbf_venta...</td>\n",
       "      <td>-34.578688</td>\n",
       "      <td>-58.457358</td>\n",
       "      <td>Colegiales</td>\n",
       "    </tr>\n",
       "  </tbody>\n",
       "</table>\n",
       "</div>"
      ],
      "text/plain": [
       "   operation property_type     price currency  price_aprox_local_currency  \\\n",
       "3       sell     apartment  112000.0      USD                  1698188.80   \n",
       "9       sell     apartment   76500.0      USD                  1159923.60   \n",
       "18      sell     apartment   90000.0      USD                  1364616.00   \n",
       "20      sell     apartment  159900.0      USD                  2424467.76   \n",
       "21      sell     apartment  123875.0      USD                  1878242.30   \n",
       "\n",
       "    price_aprox_usd  surface_total_in_m2  surface_covered_in_m2  \\\n",
       "3          112000.0                  NaN                   60.0   \n",
       "9           76500.0                  0.0                   36.0   \n",
       "18          90000.0                100.0                  100.0   \n",
       "20         159900.0                 82.0                   77.0   \n",
       "21         123875.0                 79.0                   50.0   \n",
       "\n",
       "    price_usd_per_m2  price_per_m2  floor  rooms  expenses  \\\n",
       "3                NaN   1866.666667    1.0    2.0       NaN   \n",
       "9                NaN   2125.000000    NaN    2.0    1000.0   \n",
       "18        900.000000    900.000000    NaN    3.0       NaN   \n",
       "20       1950.000000   2076.623377    NaN    3.0       NaN   \n",
       "21       1568.037975   2477.500000    NaN    2.0       NaN   \n",
       "\n",
       "                                        properati_url        lat        lon  \\\n",
       "3   http://belgrano.properati.com.ar/116pr_venta_d... -34.564676 -58.455720   \n",
       "9   http://caballito.properati.com.ar/12ksf_venta_... -34.618830 -58.437779   \n",
       "18  http://belgrano.properati.com.ar/zouu_venta_de... -34.577168 -58.538654   \n",
       "20  http://colegiales.properati.com.ar/zpcd_venta_... -34.571526 -58.455637   \n",
       "21  http://colegiales.properati.com.ar/12sbf_venta... -34.578688 -58.457358   \n",
       "\n",
       "   neighborhood  \n",
       "3      Belgrano  \n",
       "9     Caballito  \n",
       "18     Belgrano  \n",
       "20   Colegiales  \n",
       "21   Colegiales  "
      ]
     },
     "execution_count": 31,
     "metadata": {},
     "output_type": "execute_result"
    }
   ],
   "source": [
    "df.head()"
   ]
  },
  {
   "cell_type": "markdown",
   "metadata": {},
   "source": [
    "##### Split\n",
    "At this point, you should feel more comfortable with the splitting data, so we're going to condense the whole process down to one task.\n",
    "\n",
    "Task 2.3.5: Create your feature matrix X_train and target vector y_train. X_train should contain one feature: \"neighborhood\". Your target is \"price_aprox_usd\"."
   ]
  },
  {
   "cell_type": "code",
   "execution_count": 40,
   "metadata": {},
   "outputs": [],
   "source": [
    "target = \"price_aprox_usd\"\n",
    "features = [\"neighborhood\"]\n",
    "y_train = df[target]\n",
    "X_train = df[features]"
   ]
  },
  {
   "cell_type": "code",
   "execution_count": 41,
   "metadata": {},
   "outputs": [],
   "source": [
    "# Check your work\n",
    "assert X_train.shape == (6582, 1), f\"`X_train` is the wrong size: {X_train.shape}.\"\n",
    "assert y_train.shape == (6582,), f\"`y_train` is the wrong size: {y_train.shape}.\""
   ]
  },
  {
   "cell_type": "markdown",
   "metadata": {},
   "source": [
    "##### Build Model\n",
    "##### Baseline\n",
    "Let's also condense the code we use to establish our baseline.\n",
    "\n",
    "Task 2.3.6: Calculate the baseline mean absolute error for your model."
   ]
  },
  {
   "cell_type": "code",
   "execution_count": 42,
   "metadata": {},
   "outputs": [
    {
     "name": "stdout",
     "output_type": "stream",
     "text": [
      "Mean apt price: 132383.83701458524\n",
      "Baseline MAE: 44860.10834274133\n"
     ]
    }
   ],
   "source": [
    "y_mean = y_train.mean()\n",
    "y_pred_baseline = [y_mean] * len(y_train)\n",
    "print(\"Mean apt price:\", y_mean)\n",
    "print(\"Baseline MAE:\", mean_absolute_error(y_train, y_pred_baseline))"
   ]
  },
  {
   "cell_type": "markdown",
   "metadata": {},
   "source": [
    "The mean apartment price and baseline MAE should be similar but not identical to last lesson. The numbers will change since we're working with more data.\n",
    "\n",
    "##### Iterate\n",
    "If you try to fit a LinearRegression predictor to your training data at this point, you'll get an error that looks like this:\n",
    "\n",
    "    ValueError: could not convert string to float\n",
    "What does this mean? When you fit a linear regression model, you're asking scikit-learn to perform a mathematical operation. The problem is that our training set contains neighborhood information in non-numerical form. In order to create our model we need to encode that information so that it's represented numerically. The good news is that there are lots of transformers that can do this. Here, we'll use the one from the Category Encoders library, called a OneHotEncoder.\n",
    "\n",
    "Before we build include this transformer in our pipeline, let's explore how it works.\n",
    "\n",
    "Task 2.3.7: First, instantiate a OneHotEncoder named ohe. Make sure to set the use_cat_names argument to True. Next, fit your transformer to the feature matrix X_train. Finally, use your encoder to transform the feature matrix X_train, and assign the transformed data to the variable XT_train."
   ]
  },
  {
   "cell_type": "code",
   "execution_count": 43,
   "metadata": {},
   "outputs": [
    {
     "data": {
      "text/html": [
       "<div>\n",
       "<style scoped>\n",
       "    .dataframe tbody tr th:only-of-type {\n",
       "        vertical-align: middle;\n",
       "    }\n",
       "\n",
       "    .dataframe tbody tr th {\n",
       "        vertical-align: top;\n",
       "    }\n",
       "\n",
       "    .dataframe thead th {\n",
       "        text-align: right;\n",
       "    }\n",
       "</style>\n",
       "<table border=\"1\" class=\"dataframe\">\n",
       "  <thead>\n",
       "    <tr style=\"text-align: right;\">\n",
       "      <th></th>\n",
       "      <th>neighborhood</th>\n",
       "    </tr>\n",
       "  </thead>\n",
       "  <tbody>\n",
       "    <tr>\n",
       "      <th>0</th>\n",
       "      <td>Chacarita</td>\n",
       "    </tr>\n",
       "    <tr>\n",
       "      <th>1</th>\n",
       "      <td>Villa Luro</td>\n",
       "    </tr>\n",
       "    <tr>\n",
       "      <th>2</th>\n",
       "      <td>Caballito</td>\n",
       "    </tr>\n",
       "    <tr>\n",
       "      <th>3</th>\n",
       "      <td>Constitución</td>\n",
       "    </tr>\n",
       "    <tr>\n",
       "      <th>4</th>\n",
       "      <td>Once</td>\n",
       "    </tr>\n",
       "  </tbody>\n",
       "</table>\n",
       "</div>"
      ],
      "text/plain": [
       "   neighborhood\n",
       "0     Chacarita\n",
       "1    Villa Luro\n",
       "2     Caballito\n",
       "3  Constitución\n",
       "4          Once"
      ]
     },
     "execution_count": 43,
     "metadata": {},
     "output_type": "execute_result"
    }
   ],
   "source": [
    "X_train.head()"
   ]
  },
  {
   "cell_type": "code",
   "execution_count": 46,
   "metadata": {},
   "outputs": [
    {
     "data": {
      "image/png": "[encoded data removed]",
      "text/plain": [
       "<Figure size 640x480 with 1 Axes>"
      ]
     },
     "metadata": {},
     "output_type": "display_data"
    }
   ],
   "source": [
    "# Load the image\n",
    "img = mpimg.imread(\"C:/Users/Yahya/Desktop/My folder/Programming/Python/WQU_DS_lab/housing_in_Buenos_Aires/images/image 3.png\")\n",
    "\n",
    "# Display the image\n",
    "plt.imshow(img)\n",
    "plt.axis(\"off\")  # Hide axis\n",
    "plt.show()"
   ]
  },
  {
   "cell_type": "code",
   "execution_count": 50,
   "metadata": {},
   "outputs": [],
   "source": [
    "\"\"\"\n",
    "What is One-Hot Encoding?\n",
    "One-hot encoding converts categorical variables into a binary matrix (a format that consists of 0s and 1s). Each unique category in the data is represented as a binary vector with only one high bit (1) and the rest low bits (0).\n",
    "\n",
    "For example, given a categorical column like:\n",
    "\n",
    "Color\n",
    "-----\n",
    "Red\n",
    "Blue\n",
    "Green\n",
    "\n",
    "\n",
    "One-hot encoding transforms it into:\n",
    "\n",
    "Red  Blue  Green\n",
    " 1     0     0\n",
    " 0     1     0\n",
    " 0     0     1\n",
    "\"\"\";"
   ]
  },
  {
   "cell_type": "markdown",
   "metadata": {},
   "source": [
    "<!-- What is One-Hot Encoding?\n",
    "\n",
    "One-hot encoding converts categorical variables into a binary matrix (a format that consists of 0s and 1s). Each unique category in the data is represented as a binary vector with only one high bit (1) and the rest low bits (0).\n",
    "\n",
    "For example, given a categorical column like:\n",
    "\n",
    "Color\n",
    "-----\n",
    "Red\n",
    "\n",
    "Blue\n",
    "\n",
    "Green\n",
    "\n",
    "One-hot encoding transforms it into:\n",
    "\n",
    "Red  Blue  Green\n",
    "\n",
    " 1     0     0\n",
    "\n",
    " 0     1     0\n",
    "\n",
    " 0     0     1 -->\n"
   ]
  },
  {
   "cell_type": "code",
   "execution_count": 51,
   "metadata": {},
   "outputs": [
    {
     "name": "stdout",
     "output_type": "stream",
     "text": [
      "(6582, 57)\n"
     ]
    },
    {
     "data": {
      "text/html": [
       "<div>\n",
       "<style scoped>\n",
       "    .dataframe tbody tr th:only-of-type {\n",
       "        vertical-align: middle;\n",
       "    }\n",
       "\n",
       "    .dataframe tbody tr th {\n",
       "        vertical-align: top;\n",
       "    }\n",
       "\n",
       "    .dataframe thead th {\n",
       "        text-align: right;\n",
       "    }\n",
       "</style>\n",
       "<table border=\"1\" class=\"dataframe\">\n",
       "  <thead>\n",
       "    <tr style=\"text-align: right;\">\n",
       "      <th></th>\n",
       "      <th>neighborhood_Chacarita</th>\n",
       "      <th>neighborhood_Villa Luro</th>\n",
       "      <th>neighborhood_Caballito</th>\n",
       "      <th>neighborhood_Constitución</th>\n",
       "      <th>neighborhood_Once</th>\n",
       "      <th>neighborhood_Almagro</th>\n",
       "      <th>neighborhood_Palermo</th>\n",
       "      <th>neighborhood_Flores</th>\n",
       "      <th>neighborhood_Belgrano</th>\n",
       "      <th>neighborhood_Liniers</th>\n",
       "      <th>...</th>\n",
       "      <th>neighborhood_Puerto Madero</th>\n",
       "      <th>neighborhood_Agronomía</th>\n",
       "      <th>neighborhood_Monte Castro</th>\n",
       "      <th>neighborhood_Tribunales</th>\n",
       "      <th>neighborhood_Villa Santa Rita</th>\n",
       "      <th>neighborhood_Velez Sarsfield</th>\n",
       "      <th>neighborhood_Villa Soldati</th>\n",
       "      <th>neighborhood_Villa Real</th>\n",
       "      <th>neighborhood_Pompeya</th>\n",
       "      <th>neighborhood_Catalinas</th>\n",
       "    </tr>\n",
       "  </thead>\n",
       "  <tbody>\n",
       "    <tr>\n",
       "      <th>0</th>\n",
       "      <td>1</td>\n",
       "      <td>0</td>\n",
       "      <td>0</td>\n",
       "      <td>0</td>\n",
       "      <td>0</td>\n",
       "      <td>0</td>\n",
       "      <td>0</td>\n",
       "      <td>0</td>\n",
       "      <td>0</td>\n",
       "      <td>0</td>\n",
       "      <td>...</td>\n",
       "      <td>0</td>\n",
       "      <td>0</td>\n",
       "      <td>0</td>\n",
       "      <td>0</td>\n",
       "      <td>0</td>\n",
       "      <td>0</td>\n",
       "      <td>0</td>\n",
       "      <td>0</td>\n",
       "      <td>0</td>\n",
       "      <td>0</td>\n",
       "    </tr>\n",
       "    <tr>\n",
       "      <th>1</th>\n",
       "      <td>0</td>\n",
       "      <td>1</td>\n",
       "      <td>0</td>\n",
       "      <td>0</td>\n",
       "      <td>0</td>\n",
       "      <td>0</td>\n",
       "      <td>0</td>\n",
       "      <td>0</td>\n",
       "      <td>0</td>\n",
       "      <td>0</td>\n",
       "      <td>...</td>\n",
       "      <td>0</td>\n",
       "      <td>0</td>\n",
       "      <td>0</td>\n",
       "      <td>0</td>\n",
       "      <td>0</td>\n",
       "      <td>0</td>\n",
       "      <td>0</td>\n",
       "      <td>0</td>\n",
       "      <td>0</td>\n",
       "      <td>0</td>\n",
       "    </tr>\n",
       "    <tr>\n",
       "      <th>2</th>\n",
       "      <td>0</td>\n",
       "      <td>0</td>\n",
       "      <td>1</td>\n",
       "      <td>0</td>\n",
       "      <td>0</td>\n",
       "      <td>0</td>\n",
       "      <td>0</td>\n",
       "      <td>0</td>\n",
       "      <td>0</td>\n",
       "      <td>0</td>\n",
       "      <td>...</td>\n",
       "      <td>0</td>\n",
       "      <td>0</td>\n",
       "      <td>0</td>\n",
       "      <td>0</td>\n",
       "      <td>0</td>\n",
       "      <td>0</td>\n",
       "      <td>0</td>\n",
       "      <td>0</td>\n",
       "      <td>0</td>\n",
       "      <td>0</td>\n",
       "    </tr>\n",
       "    <tr>\n",
       "      <th>3</th>\n",
       "      <td>0</td>\n",
       "      <td>0</td>\n",
       "      <td>0</td>\n",
       "      <td>1</td>\n",
       "      <td>0</td>\n",
       "      <td>0</td>\n",
       "      <td>0</td>\n",
       "      <td>0</td>\n",
       "      <td>0</td>\n",
       "      <td>0</td>\n",
       "      <td>...</td>\n",
       "      <td>0</td>\n",
       "      <td>0</td>\n",
       "      <td>0</td>\n",
       "      <td>0</td>\n",
       "      <td>0</td>\n",
       "      <td>0</td>\n",
       "      <td>0</td>\n",
       "      <td>0</td>\n",
       "      <td>0</td>\n",
       "      <td>0</td>\n",
       "    </tr>\n",
       "    <tr>\n",
       "      <th>4</th>\n",
       "      <td>0</td>\n",
       "      <td>0</td>\n",
       "      <td>0</td>\n",
       "      <td>0</td>\n",
       "      <td>1</td>\n",
       "      <td>0</td>\n",
       "      <td>0</td>\n",
       "      <td>0</td>\n",
       "      <td>0</td>\n",
       "      <td>0</td>\n",
       "      <td>...</td>\n",
       "      <td>0</td>\n",
       "      <td>0</td>\n",
       "      <td>0</td>\n",
       "      <td>0</td>\n",
       "      <td>0</td>\n",
       "      <td>0</td>\n",
       "      <td>0</td>\n",
       "      <td>0</td>\n",
       "      <td>0</td>\n",
       "      <td>0</td>\n",
       "    </tr>\n",
       "  </tbody>\n",
       "</table>\n",
       "<p>5 rows × 57 columns</p>\n",
       "</div>"
      ],
      "text/plain": [
       "   neighborhood_Chacarita  neighborhood_Villa Luro  neighborhood_Caballito  \\\n",
       "0                       1                        0                       0   \n",
       "1                       0                        1                       0   \n",
       "2                       0                        0                       1   \n",
       "3                       0                        0                       0   \n",
       "4                       0                        0                       0   \n",
       "\n",
       "   neighborhood_Constitución  neighborhood_Once  neighborhood_Almagro  \\\n",
       "0                          0                  0                     0   \n",
       "1                          0                  0                     0   \n",
       "2                          0                  0                     0   \n",
       "3                          1                  0                     0   \n",
       "4                          0                  1                     0   \n",
       "\n",
       "   neighborhood_Palermo  neighborhood_Flores  neighborhood_Belgrano  \\\n",
       "0                     0                    0                      0   \n",
       "1                     0                    0                      0   \n",
       "2                     0                    0                      0   \n",
       "3                     0                    0                      0   \n",
       "4                     0                    0                      0   \n",
       "\n",
       "   neighborhood_Liniers  ...  neighborhood_Puerto Madero  \\\n",
       "0                     0  ...                           0   \n",
       "1                     0  ...                           0   \n",
       "2                     0  ...                           0   \n",
       "3                     0  ...                           0   \n",
       "4                     0  ...                           0   \n",
       "\n",
       "   neighborhood_Agronomía  neighborhood_Monte Castro  neighborhood_Tribunales  \\\n",
       "0                       0                          0                        0   \n",
       "1                       0                          0                        0   \n",
       "2                       0                          0                        0   \n",
       "3                       0                          0                        0   \n",
       "4                       0                          0                        0   \n",
       "\n",
       "   neighborhood_Villa Santa Rita  neighborhood_Velez Sarsfield  \\\n",
       "0                              0                             0   \n",
       "1                              0                             0   \n",
       "2                              0                             0   \n",
       "3                              0                             0   \n",
       "4                              0                             0   \n",
       "\n",
       "   neighborhood_Villa Soldati  neighborhood_Villa Real  neighborhood_Pompeya  \\\n",
       "0                           0                        0                     0   \n",
       "1                           0                        0                     0   \n",
       "2                           0                        0                     0   \n",
       "3                           0                        0                     0   \n",
       "4                           0                        0                     0   \n",
       "\n",
       "   neighborhood_Catalinas  \n",
       "0                       0  \n",
       "1                       0  \n",
       "2                       0  \n",
       "3                       0  \n",
       "4                       0  \n",
       "\n",
       "[5 rows x 57 columns]"
      ]
     },
     "execution_count": 51,
     "metadata": {},
     "output_type": "execute_result"
    }
   ],
   "source": [
    "# Instantiate\n",
    "ohe = OneHotEncoder(use_cat_names=True)\n",
    "# Fit\n",
    "ohe.fit(X_train)\n",
    "# Transform\n",
    "XT_train = ohe.transform(X_train)\n",
    "print(XT_train.shape)\n",
    "XT_train.head()"
   ]
  },
  {
   "cell_type": "code",
   "execution_count": 52,
   "metadata": {},
   "outputs": [],
   "source": [
    "# Check your work\n",
    "assert XT_train.shape == (6582, 57), f\"`XT_train` is the wrong shape: {XT_train.shape}\""
   ]
  },
  {
   "cell_type": "markdown",
   "metadata": {},
   "source": [
    "Now that we have an idea for how the OneHotEncoder works, let's bring it into our pipeline.\n",
    "\n",
    "Task 2.3.8: Create a pipeline named model that contains a OneHotEncoder transformer and a LinearRegression predictor. Then fit your model to the training data."
   ]
  },
  {
   "cell_type": "code",
   "execution_count": 67,
   "metadata": {},
   "outputs": [
    {
     "data": {
      "text/html": [
       "<style>#sk-container-id-2 {color: black;background-color: white;}#sk-container-id-2 pre{padding: 0;}#sk-container-id-2 div.sk-toggleable {background-color: white;}#sk-container-id-2 label.sk-toggleable__label {cursor: pointer;display: block;width: 100%;margin-bottom: 0;padding: 0.3em;box-sizing: border-box;text-align: center;}#sk-container-id-2 label.sk-toggleable__label-arrow:before {content: \"▸\";float: left;margin-right: 0.25em;color: #696969;}#sk-container-id-2 label.sk-toggleable__label-arrow:hover:before {color: black;}#sk-container-id-2 div.sk-estimator:hover label.sk-toggleable__label-arrow:before {color: black;}#sk-container-id-2 div.sk-toggleable__content {max-height: 0;max-width: 0;overflow: hidden;text-align: left;background-color: #f0f8ff;}#sk-container-id-2 div.sk-toggleable__content pre {margin: 0.2em;color: black;border-radius: 0.25em;background-color: #f0f8ff;}#sk-container-id-2 input.sk-toggleable__control:checked~div.sk-toggleable__content {max-height: 200px;max-width: 100%;overflow: auto;}#sk-container-id-2 input.sk-toggleable__control:checked~label.sk-toggleable__label-arrow:before {content: \"▾\";}#sk-container-id-2 div.sk-estimator input.sk-toggleable__control:checked~label.sk-toggleable__label {background-color: #d4ebff;}#sk-container-id-2 div.sk-label input.sk-toggleable__control:checked~label.sk-toggleable__label {background-color: #d4ebff;}#sk-container-id-2 input.sk-hidden--visually {border: 0;clip: rect(1px 1px 1px 1px);clip: rect(1px, 1px, 1px, 1px);height: 1px;margin: -1px;overflow: hidden;padding: 0;position: absolute;width: 1px;}#sk-container-id-2 div.sk-estimator {font-family: monospace;background-color: #f0f8ff;border: 1px dotted black;border-radius: 0.25em;box-sizing: border-box;margin-bottom: 0.5em;}#sk-container-id-2 div.sk-estimator:hover {background-color: #d4ebff;}#sk-container-id-2 div.sk-parallel-item::after {content: \"\";width: 100%;border-bottom: 1px solid gray;flex-grow: 1;}#sk-container-id-2 div.sk-label:hover label.sk-toggleable__label {background-color: #d4ebff;}#sk-container-id-2 div.sk-serial::before {content: \"\";position: absolute;border-left: 1px solid gray;box-sizing: border-box;top: 0;bottom: 0;left: 50%;z-index: 0;}#sk-container-id-2 div.sk-serial {display: flex;flex-direction: column;align-items: center;background-color: white;padding-right: 0.2em;padding-left: 0.2em;position: relative;}#sk-container-id-2 div.sk-item {position: relative;z-index: 1;}#sk-container-id-2 div.sk-parallel {display: flex;align-items: stretch;justify-content: center;background-color: white;position: relative;}#sk-container-id-2 div.sk-item::before, #sk-container-id-2 div.sk-parallel-item::before {content: \"\";position: absolute;border-left: 1px solid gray;box-sizing: border-box;top: 0;bottom: 0;left: 50%;z-index: -1;}#sk-container-id-2 div.sk-parallel-item {display: flex;flex-direction: column;z-index: 1;position: relative;background-color: white;}#sk-container-id-2 div.sk-parallel-item:first-child::after {align-self: flex-end;width: 50%;}#sk-container-id-2 div.sk-parallel-item:last-child::after {align-self: flex-start;width: 50%;}#sk-container-id-2 div.sk-parallel-item:only-child::after {width: 0;}#sk-container-id-2 div.sk-dashed-wrapped {border: 1px dashed gray;margin: 0 0.4em 0.5em 0.4em;box-sizing: border-box;padding-bottom: 0.4em;background-color: white;}#sk-container-id-2 div.sk-label label {font-family: monospace;font-weight: bold;display: inline-block;line-height: 1.2em;}#sk-container-id-2 div.sk-label-container {text-align: center;}#sk-container-id-2 div.sk-container {/* jupyter's `normalize.less` sets `[hidden] { display: none; }` but bootstrap.min.css set `[hidden] { display: none !important; }` so we also need the `!important` here to be able to override the default hidden behavior on the sphinx rendered scikit-learn.org. See: https://github.com/scikit-learn/scikit-learn/issues/21755 */display: inline-block !important;position: relative;}#sk-container-id-2 div.sk-text-repr-fallback {display: none;}</style><div id=\"sk-container-id-2\" class=\"sk-top-container\"><div class=\"sk-text-repr-fallback\"><pre>Pipeline(steps=[(&#x27;onehotencoder&#x27;,\n",
       "                 OneHotEncoder(cols=[&#x27;neighborhood&#x27;], use_cat_names=True)),\n",
       "                (&#x27;ridge&#x27;, Ridge())])</pre><b>In a Jupyter environment, please rerun this cell to show the HTML representation or trust the notebook. <br />On GitHub, the HTML representation is unable to render, please try loading this page with nbviewer.org.</b></div><div class=\"sk-container\" hidden><div class=\"sk-item sk-dashed-wrapped\"><div class=\"sk-label-container\"><div class=\"sk-label sk-toggleable\"><input class=\"sk-toggleable__control sk-hidden--visually\" id=\"sk-estimator-id-4\" type=\"checkbox\" ><label for=\"sk-estimator-id-4\" class=\"sk-toggleable__label sk-toggleable__label-arrow\">Pipeline</label><div class=\"sk-toggleable__content\"><pre>Pipeline(steps=[(&#x27;onehotencoder&#x27;,\n",
       "                 OneHotEncoder(cols=[&#x27;neighborhood&#x27;], use_cat_names=True)),\n",
       "                (&#x27;ridge&#x27;, Ridge())])</pre></div></div></div><div class=\"sk-serial\"><div class=\"sk-item\"><div class=\"sk-estimator sk-toggleable\"><input class=\"sk-toggleable__control sk-hidden--visually\" id=\"sk-estimator-id-5\" type=\"checkbox\" ><label for=\"sk-estimator-id-5\" class=\"sk-toggleable__label sk-toggleable__label-arrow\">OneHotEncoder</label><div class=\"sk-toggleable__content\"><pre>OneHotEncoder(cols=[&#x27;neighborhood&#x27;], use_cat_names=True)</pre></div></div></div><div class=\"sk-item\"><div class=\"sk-estimator sk-toggleable\"><input class=\"sk-toggleable__control sk-hidden--visually\" id=\"sk-estimator-id-6\" type=\"checkbox\" ><label for=\"sk-estimator-id-6\" class=\"sk-toggleable__label sk-toggleable__label-arrow\">Ridge</label><div class=\"sk-toggleable__content\"><pre>Ridge()</pre></div></div></div></div></div></div></div>"
      ],
      "text/plain": [
       "Pipeline(steps=[('onehotencoder',\n",
       "                 OneHotEncoder(cols=['neighborhood'], use_cat_names=True)),\n",
       "                ('ridge', Ridge())])"
      ]
     },
     "execution_count": 67,
     "metadata": {},
     "output_type": "execute_result"
    }
   ],
   "source": [
    "model = make_pipeline(\n",
    "    OneHotEncoder(use_cat_names=True),\n",
    "    Ridge()\n",
    ")\n",
    "\n",
    "model.fit(X_train, y_train) # fit the model"
   ]
  },
  {
   "cell_type": "code",
   "execution_count": 54,
   "metadata": {},
   "outputs": [],
   "source": [
    "# Check your work\n",
    "check_is_fitted(model[-1])"
   ]
  },
  {
   "cell_type": "markdown",
   "metadata": {},
   "source": [
    "Wow, you just built a model with two transformers and a predictor! When you started this course, did you think you'd be able to do something like that? 😁\n",
    "\n",
    "##### Evaluate\n",
    "Regardless of how you build your model, the evaluation step stays the same. Let's see how our model performs with the training set.\n",
    "\n",
    "Task 2.3.9: First, create a list of predictions for the observations in your feature matrix X_train. Name this list y_pred_training. Then calculate the training mean absolute error for your predictions in y_pred_training as compared to the true targets in y_train."
   ]
  },
  {
   "cell_type": "code",
   "execution_count": 68,
   "metadata": {},
   "outputs": [
    {
     "name": "stdout",
     "output_type": "stream",
     "text": [
      "Training MAE: 39350.22\n"
     ]
    }
   ],
   "source": [
    "y_pred_training = model.predict(X_train)\n",
    "mae_training = mean_absolute_error(y_train, y_pred_training)\n",
    "print(\"Training MAE:\", round(mae_training, 2))"
   ]
  },
  {
   "cell_type": "markdown",
   "metadata": {},
   "source": [
    "Now let's check our test performance.\n",
    "\n",
    "Task 2.3.10: Run the code below to import your test data buenos-aires-test-features.csv into a DataFrame and generate a Series of predictions using your model. Then run the following cell to submit your predictions to the grader."
   ]
  },
  {
   "cell_type": "code",
   "execution_count": 69,
   "metadata": {},
   "outputs": [
    {
     "data": {
      "text/plain": [
       "0    246624.694624\n",
       "1    161355.968734\n",
       "2     98232.051308\n",
       "3    110846.030377\n",
       "4    127777.538197\n",
       "dtype: float64"
      ]
     },
     "execution_count": 69,
     "metadata": {},
     "output_type": "execute_result"
    }
   ],
   "source": [
    "X_test = pd.read_csv(\"datasets/buenos-aires-test-features.csv\")[features]\n",
    "y_pred_test = pd.Series(model.predict(X_test))\n",
    "y_pred_test.head()"
   ]
  },
  {
   "cell_type": "markdown",
   "metadata": {},
   "source": [
    "Communicate Results\n",
    "\n",
    "If we write out the equation for our model, it'll be too big to fit on the screen. That's because, when we used the OneHotEncoder to encode the neighborhood data, we created a much wider DataFrame, and each column/feature has it's own coefficient in our model's equation.\n",
    "\n",
    "Equation: y = β0 + β1 x1 + β2 x2 + ... + β59 x59 + β60 x60 \n",
    "\n",
    "y = price\n",
    "\n",
    "β0 = intercept\n",
    "\n",
    "β1 = coefficient 1\n",
    "\n",
    "x1 = neighborhood Villa Crespo\n",
    "\n",
    "β2 = coefficient 2\n",
    "\n",
    "x2 = neighborhood Chacarita\n",
    "\n",
    "β59 = coefficient 59\n",
    "\n",
    "x59 = neighborhood Catalinas\n",
    "\n",
    "β60 = coefficient 60\n",
    "\n",
    "x60 = Villa Real\n",
    "\n",
    "This is important to keep in mind for two reasons. First, it means that this is a high-dimensional model. Instead of a 2D or 3D plot, we'd need a 58-dimensional plot to represent it, which is impossible! Second, it means that we'll need to extract and represent the information for our equation a little differently than before. Let's start by getting our intercept and coefficient.\n",
    "\n",
    "Task 2.3.11: Extract the intercept and coefficients for your model."
   ]
  },
  {
   "cell_type": "code",
   "execution_count": 70,
   "metadata": {},
   "outputs": [
    {
     "name": "stdout",
     "output_type": "stream",
     "text": [
      "coefficients len: 57\n",
      "[-2.89895934e+03 -6.29555350e+00  9.25289088e+03 -4.17487330e+04\n",
      " -3.23037446e+03]\n"
     ]
    }
   ],
   "source": [
    "intercept = model.named_steps[\"ridge\"].intercept_\n",
    "coefficients = model.named_steps[\"ridge\"].coef_\n",
    "print(\"coefficients len:\", len(coefficients))\n",
    "print(coefficients[:5])  # First five coefficients"
   ]
  },
  {
   "cell_type": "code",
   "execution_count": 58,
   "metadata": {},
   "outputs": [],
   "source": [
    "# Check your work\n",
    "assert isinstance(\n",
    "    intercept, float\n",
    "), f\"`intercept` should be a `float`, not {type(intercept)}.\"\n",
    "assert isinstance(\n",
    "    coefficients, np.ndarray\n",
    "), f\"`coefficients` should be a `float`, not {type(coefficients)}.\"\n",
    "assert coefficients.shape == (\n",
    "    57,\n",
    "), f\"`coefficients` is wrong shape: {coefficients.shape}.\""
   ]
  },
  {
   "cell_type": "markdown",
   "metadata": {},
   "source": [
    "We have the values of our coefficients, but how do we know which features they belong to? We'll need to get that information by going into the part of our pipeline that did the encoding.\n",
    "\n",
    "Task 2.3.12: Extract the feature names of your encoded data from the OneHotEncoder in your model."
   ]
  },
  {
   "cell_type": "code",
   "execution_count": 71,
   "metadata": {},
   "outputs": [
    {
     "name": "stdout",
     "output_type": "stream",
     "text": [
      "features len: 57\n",
      "['neighborhood_Chacarita' 'neighborhood_Villa Luro'\n",
      " 'neighborhood_Caballito' 'neighborhood_Constitución' 'neighborhood_Once']\n"
     ]
    }
   ],
   "source": [
    "feature_names = model.named_steps[\"onehotencoder\"].get_feature_names_out()\n",
    "print(\"features len:\", len(feature_names))\n",
    "print(feature_names[:5])  # First five feature names"
   ]
  },
  {
   "cell_type": "code",
   "execution_count": 61,
   "metadata": {},
   "outputs": [],
   "source": [
    "# Check your work\n",
    "assert isinstance(\n",
    "    feature_names, np.ndarray\n",
    "), f\"`features` should be a `list`, not {type(feature_names)}.\"\n",
    "assert len(feature_names) == len(\n",
    "    coefficients\n",
    "), \"You should have the same number of features and coefficients.\""
   ]
  },
  {
   "cell_type": "markdown",
   "metadata": {},
   "source": [
    "We have coefficients and feature names, and now we need to put them together. For that, we'll use a Series.\n",
    "\n",
    "Task 2.3.13: Create a pandas Series named feat_imp where the index is your features and the values are your coefficients."
   ]
  },
  {
   "cell_type": "code",
   "execution_count": 72,
   "metadata": {},
   "outputs": [
    {
     "data": {
      "text/plain": [
       "neighborhood_Chacarita       -2898.959335\n",
       "neighborhood_Villa Luro         -6.295553\n",
       "neighborhood_Caballito        9252.890876\n",
       "neighborhood_Constitución   -41748.733031\n",
       "neighborhood_Once            -3230.374461\n",
       "dtype: float64"
      ]
     },
     "execution_count": 72,
     "metadata": {},
     "output_type": "execute_result"
    }
   ],
   "source": [
    "feat_imp = pd.Series(coefficients, index=feature_names)\n",
    "feat_imp.head()"
   ]
  },
  {
   "cell_type": "code",
   "execution_count": 63,
   "metadata": {},
   "outputs": [],
   "source": [
    "# Check your work\n",
    "assert isinstance(\n",
    "    feat_imp, pd.Series\n",
    "), f\"`feat_imp` should be a `float`, not {type(feat_imp)}.\"\n",
    "assert feat_imp.shape == (57,), f\"`feat_imp` is wrong shape: {feat_imp.shape}.\"\n",
    "assert all(\n",
    "    a == b for a, b in zip(sorted(feature_names), sorted(feat_imp.index))\n",
    "), \"The index of `feat_imp` should be identical to `features`.\""
   ]
  },
  {
   "cell_type": "markdown",
   "metadata": {},
   "source": [
    "To be clear, it's definitely not a good idea to show this long equation to an audience, but let's print it out just to check our work. Since there are so many terms to print, we'll use a for loop.\n",
    "\n",
    "Task 2.3.14: Run the cell below to print the equation that your model has determined for predicting apartment price based on longitude and latitude."
   ]
  },
  {
   "cell_type": "code",
   "execution_count": 73,
   "metadata": {},
   "outputs": [
    {
     "name": "stdout",
     "output_type": "stream",
     "text": [
      "price = 118524.65\n",
      "+ (-2898.96 * neighborhood_Chacarita)\n",
      "+ (-6.3 * neighborhood_Villa Luro)\n",
      "+ (9252.89 * neighborhood_Caballito)\n",
      "+ (-41748.73 * neighborhood_Constitución)\n",
      "+ (-3230.37 * neighborhood_Once)\n",
      "+ (2903.34 * neighborhood_Almagro)\n",
      "+ (45934.41 * neighborhood_Palermo)\n",
      "+ (-8662.28 * neighborhood_Flores)\n",
      "+ (46954.21 * neighborhood_Belgrano)\n",
      "+ (-13729.1 * neighborhood_Liniers)\n",
      "+ (6277.05 * neighborhood_Villa Crespo)\n",
      "+ (-10678.63 * neighborhood_San Cristobal)\n",
      "+ (-7974.66 * neighborhood_Congreso)\n",
      "+ (14701.16 * neighborhood_Saavedra)\n",
      "+ (-11172.55 * neighborhood_Balvanera)\n",
      "+ (-29585.61 * neighborhood_Parque Avellaneda)\n",
      "+ (72740.78 * neighborhood_Recoleta)\n",
      "+ (5638.47 * neighborhood_San Telmo)\n",
      "+ (42831.32 * neighborhood_Nuñez)\n",
      "+ (55590.93 * neighborhood_Barrio Norte)\n",
      "+ (-6323.68 * neighborhood_Parque Centenario)\n",
      "+ (4330.55 * neighborhood_Abasto)\n",
      "+ (-7905.29 * neighborhood_Centro / Microcentro)\n",
      "+ (-19370.74 * neighborhood_)\n",
      "+ (-7108.23 * neighborhood_Paternal)\n",
      "+ (-21078.78 * neighborhood_Mataderos)\n",
      "+ (-48669.35 * neighborhood_Villa Lugano)\n",
      "+ (12223.11 * neighborhood_Coghlan)\n",
      "+ (72270.21 * neighborhood_Las Cañitas)\n",
      "+ (12671.71 * neighborhood_Villa Urquiza)\n",
      "+ (-20292.6 * neighborhood_Monserrat)\n",
      "+ (-8093.45 * neighborhood_Villa Pueyrredón)\n",
      "+ (-15807.01 * neighborhood_Parque Patricios)\n",
      "+ (-10734.35 * neighborhood_San Nicolás)\n",
      "+ (-12595.5 * neighborhood_Villa del Parque)\n",
      "+ (-6837.4 * neighborhood_Boedo)\n",
      "+ (-7678.62 * neighborhood_Parque Chacabuco)\n",
      "+ (-4618.66 * neighborhood_Barracas)\n",
      "+ (-32439.87 * neighborhood_Parque Chas)\n",
      "+ (38436.33 * neighborhood_Colegiales)\n",
      "+ (7714.62 * neighborhood_Villa General Mitre)\n",
      "+ (-11208.9 * neighborhood_Villa Ortuzar)\n",
      "+ (3860.58 * neighborhood_Villa Devoto)\n",
      "+ (-14088.02 * neighborhood_Floresta)\n",
      "+ (27042.61 * neighborhood_Retiro)\n",
      "+ (-4937.21 * neighborhood_Versalles)\n",
      "+ (-28353.36 * neighborhood_Boca)\n",
      "+ (128100.05 * neighborhood_Puerto Madero)\n",
      "+ (-772.7 * neighborhood_Agronomía)\n",
      "+ (-3427.44 * neighborhood_Monte Castro)\n",
      "+ (-7818.09 * neighborhood_Tribunales)\n",
      "+ (-19843.92 * neighborhood_Villa Santa Rita)\n",
      "+ (-27219.72 * neighborhood_Velez Sarsfield)\n",
      "+ (-59248.81 * neighborhood_Villa Soldati)\n",
      "+ (-7393.49 * neighborhood_Villa Real)\n",
      "+ (-43909.59 * neighborhood_Pompeya)\n",
      "+ (-22012.32 * neighborhood_Catalinas)\n"
     ]
    }
   ],
   "source": [
    "print(f\"price = {intercept.round(2)}\")\n",
    "for f, c in feat_imp.items():\n",
    "    print(f\"+ ({round(c, 2)} * {f})\")"
   ]
  },
  {
   "cell_type": "markdown",
   "metadata": {},
   "source": [
    "Task 2.3.15: Scroll up, change the predictor in your model to Ridge, and retrain it. Then evaluate the model's training and test performance. Do you still have an overfitting problem? If not, extract the intercept and coefficients again (you'll need to change your code a little bit) and regenerate the model's equation. Does it look different than before?"
   ]
  },
  {
   "cell_type": "code",
   "execution_count": 74,
   "metadata": {},
   "outputs": [],
   "source": [
    "# Check your work\n",
    "assert isinstance(\n",
    "    model[-1], Ridge\n",
    "), \"Did you retrain your model using a `Ridge` predictor?\""
   ]
  },
  {
   "cell_type": "markdown",
   "metadata": {},
   "source": [
    "We're back on track with our model, so let's create a visualization that will help a non-technical audience understand what the most important features for our model in predicting apartment price.\n",
    "\n",
    "Task 2.3.16: Create a horizontal bar chart that shows the top 15 coefficients for your model, based on their absolute value."
   ]
  },
  {
   "cell_type": "code",
   "execution_count": 78,
   "metadata": {},
   "outputs": [
    {
     "data": {
      "image/png": "[encoded data removed]",
      "text/plain": [
       "<Figure size 1000x1500 with 1 Axes>"
      ]
     },
     "metadata": {},
     "output_type": "display_data"
    }
   ],
   "source": [
    "feat_imp.sort_values(key = abs).tail(15).plot(kind=\"barh\", figsize=(10, 15))\n",
    "plt.xlabel(\"Importance [USD]\")\n",
    "plt.ylabel(\"Feature\")\n",
    "plt.title(\"Feature Importance for Apartment Price\");"
   ]
  }
 ],
 "metadata": {
  "kernelspec": {
   "display_name": "base",
   "language": "python",
   "name": "python3"
  },
  "language_info": {
   "codemirror_mode": {
    "name": "ipython",
    "version": 3
   },
   "file_extension": ".py",
   "mimetype": "text/x-python",
   "name": "python",
   "nbconvert_exporter": "python",
   "pygments_lexer": "ipython3",
   "version": "3.10.9"
  }
 },
 "nbformat": 4,
 "nbformat_minor": 2
}
